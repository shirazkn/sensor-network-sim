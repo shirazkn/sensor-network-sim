{
 "cells": [
  {
   "cell_type": "code",
   "execution_count": null,
   "metadata": {},
   "outputs": [],
   "source": [
    " "
   ]
  },
  {
   "cell_type": "markdown",
   "metadata": {},
   "source": [
    "This notebook compares the performance of different distributed estimation algorithms :<br>\n",
    "KCF (Kalman Consensus Filter, 2007)<br>\n",
    "ICF (Information Consensus Filter, 2013)<br>"
   ]
  },
  {
   "cell_type": "code",
   "execution_count": 1,
   "metadata": {},
   "outputs": [],
   "source": [
    "import os\n",
    "import settings.input\n",
    "\n",
    "# Choose target and sensor-network\n",
    "input_files = []\n",
    "input_files.append(os.path.join(\"settings\",\"json_files\", \"target-rotating.json\"))\n",
    "input_files.append(os.path.join(\"settings\",\"json_files\", \"test-network-1.json\"))\n",
    "\n",
    "# Read input files\n",
    "input_data = settings.input.read(input_files)"
   ]
  },
  {
   "cell_type": "markdown",
   "metadata": {},
   "source": [
    "Consider a network of sensors connected as,"
   ]
  },
  {
   "cell_type": "code",
   "execution_count": 2,
   "metadata": {},
   "outputs": [
    {
     "name": "stderr",
     "output_type": "stream",
     "text": [
      "/usr/local/lib/python3.7/site-packages/networkx/drawing/nx_pylab.py:579: MatplotlibDeprecationWarning: \n",
      "The iterable function was deprecated in Matplotlib 3.1 and will be removed in 3.3. Use np.iterable instead.\n",
      "  if not cb.iterable(width):\n"
     ]
    },
    {
     "data": {
      "image/png": "[encoded data removed]",
      "text/plain": [
       "<Figure size 432x288 with 1 Axes>"
      ]
     },
     "metadata": {},
     "output_type": "display_data"
    }
   ],
   "source": [
    "from sim.helpers import show_graph\n",
    "show_graph(input_data[\"network\"][\"adjacency\"])"
   ]
  },
  {
   "cell_type": "markdown",
   "metadata": {},
   "source": [
    "Consider the scenario where sensors `'1'`, `3` and `4` have high estimation error; We expect this to cause poor performance at sensor `'3'`, for distributed estimation protocols that do not weight their neighbors' information (such as the Kalman Consensus Filter). "
   ]
  },
  {
   "cell_type": "code",
   "execution_count": 3,
   "metadata": {},
   "outputs": [],
   "source": [
    "input_data[\"network\"][\"noise_covariances\"][\"1\"] = [[10000, 0], [0, 10000]]\n",
    "input_data[\"network\"][\"noise_covariances\"][\"3\"] = [[10000, 0], [0, 10000]]\n",
    "input_data[\"network\"][\"noise_covariances\"][\"4\"] = [[10000, 0], [0, 10000]]"
   ]
  },
  {
   "cell_type": "markdown",
   "metadata": {},
   "source": [
    "Consider a target moving in circles (with system noise) being observed by our sensor network. <br>\n",
    "We compare the performance of KCF (Kalman Consensus Filter) & ICF (Information Consensus Filter) :"
   ]
  },
  {
   "cell_type": "code",
   "execution_count": null,
   "metadata": {},
   "outputs": [
    {
     "name": "stdout",
     "output_type": "stream",
     "text": [
      "Initializing a sensor network with KCF (2009) scheme...\n",
      "> /Users/shiraz/repos/sensor-network-sim/sim/simulation.py(48)simulate_many()\n",
      "-> print(f\"Simulating for {duration} time-steps...\")\n",
      "(Pdb) test = networks[-1].sensors[0]\n",
      "*** KeyError: 0\n",
      "(Pdb) test = networks[-1].sensors[\"1\"]\n",
      "(Pdb) test\n",
      "<sim.estimators.KCF_2007.EstimatorKCF object at 0x11e3847d0>\n",
      "(Pdb) test[\"ErrCov\"\n",
      "*** SyntaxError: unexpected EOF while parsing\n",
      "(Pdb) test[\"ErrCov\"]\n",
      "array([[None, None],\n",
      "       [None, None]], dtype=object)\n",
      "(Pdb) test.__dict__\n",
      "{'id': '1', 'neighbors': ['3', '4'], 'Obs': array([[1, 0],\n",
      "       [0, 1]]), 'NoiseCov': array([[10000,     0],\n",
      "       [    0, 10000]]), 'measurement': array([[None],\n",
      "       [None]], dtype=object), 'noise': <sim.noise.Noise object at 0x11e384950>, 'estimate': array([[None],\n",
      "       [None]], dtype=object), 'ErrCov': array([[None, None],\n",
      "       [None, None]], dtype=object), 'estimate_prior': array([[100],\n",
      "       [ 40]]), 'ErrCov_prior': array([[50,  0],\n",
      "       [ 0, 50]]), 'K_gain': None, 'C_gain': {'3': None, '4': None}, 'eps': 0.25}\n",
      "(Pdb) dir(test)\n",
      "['C_gain', 'ErrCov', 'ErrCov_prior', 'INFO_NEEDED_FROM_NEIGHBORS', 'INFO_NEEDED_FROM_TARGET', 'K_gain', 'NoiseCov', 'Obs', 'REQUIRES_GLOBAL_INFO', '__annotations__', '__class__', '__delattr__', '__dict__', '__dir__', '__doc__', '__eq__', '__format__', '__ge__', '__getattribute__', '__getitem__', '__gt__', '__hash__', '__init__', '__init_subclass__', '__le__', '__lt__', '__module__', '__ne__', '__new__', '__reduce__', '__reduce_ex__', '__repr__', '__setattr__', '__sizeof__', '__str__', '__subclasshook__', '__weakref__', 'calc_C_gains', 'calc_K_gain', 'do_estimation', 'do_propagation', 'eps', 'estimate', 'estimate_prior', 'id', 'make_measurement', 'measurement', 'neighbors', 'noise']\n",
      "(Pdb) dir(test)[-4[\n",
      "*** SyntaxError: unexpected EOF while parsing\n",
      "(Pdb) test.__getattribute__(\"make_measurement\")\n",
      "<bound method Sensor.make_measurement of <sim.estimators.KCF_2007.EstimatorKCF object at 0x11e3847d0>>\n",
      "(Pdb) test.__getattribute__(\"make_measurement\")()\n",
      "*** TypeError: make_measurement() missing 1 required positional argument: 'target_x'\n"
     ]
    }
   ],
   "source": [
    "from sim.simulation import simulate_many\n",
    "sensor_initials = {\"estimate_prior\": [[100], [40]],\n",
    "                   \"ErrCov_prior\": [[50,0],[0,50]]}\n",
    "\n",
    "results = simulate_many(input_data, duration = 3, est_schemes=[\"KCF\"], \n",
    "                        sensor_initials=sensor_initials)\n",
    "print(\"KCF Scheme (Poor performance) : \")\n",
    "results[0].plot_xy(target=True, estimates_of=\"3\")\n",
    "# print(\"ICF Scheme (Better performance) : \")\n",
    "# results[1].plot_xy(target=True, estimates_of=\"3\")"
   ]
  },
  {
   "cell_type": "code",
   "execution_count": 5,
   "metadata": {},
   "outputs": [],
   "source": [
    "###### Estimated Error Covariance\n",
    "# print(\"Estimated Error Covariance of sensor 3, using KCF :\")\n",
    "# results[0].plot_timeseries(ErrCov_of=\"3\")\n",
    "# print(\"Estimated Error Covariance of sensor 3, using ICF :\")\n",
    "# results[1].plot_timeseries(ErrCov_of=\"3\")"
   ]
  },
  {
   "cell_type": "markdown",
   "metadata": {},
   "source": [
    " "
   ]
  },
  {
   "cell_type": "markdown",
   "metadata": {},
   "source": [
    "Since the sensor network operates via its own classobjects, we can simulate two estimation schemes concurrently and compare their performances. <br>\n",
    "To simulate a single estimation scheme, use `sim.simulation.simulate`."
   ]
  },
  {
   "cell_type": "code",
   "execution_count": null,
   "metadata": {},
   "outputs": [],
   "source": [
    "\n"
   ]
  },
  {
   "cell_type": "code",
   "execution_count": null,
   "metadata": {},
   "outputs": [],
   "source": []
  }
 ],
 "metadata": {
  "kernelspec": {
   "display_name": "Python 3",
   "language": "python",
   "name": "python3"
  },
  "language_info": {
   "codemirror_mode": {
    "name": "ipython",
    "version": 3
   },
   "file_extension": ".py",
   "mimetype": "text/x-python",
   "name": "python",
   "nbconvert_exporter": "python",
   "pygments_lexer": "ipython3",
   "version": "3.7.4"
  }
 },
 "nbformat": 4,
 "nbformat_minor": 2
}
