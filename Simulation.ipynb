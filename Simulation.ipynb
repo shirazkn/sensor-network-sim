{
 "cells": [
  {
   "cell_type": "code",
   "execution_count": null,
   "metadata": {},
   "outputs": [],
   "source": [
    " "
   ]
  },
  {
   "cell_type": "markdown",
   "metadata": {},
   "source": [
    "This notebook compares the performance of different distributed estimation algorithms :<br>\n",
    "KCF (Kalman Consensus Filter, 2007)<br>\n",
    "ICF (Information Consensus Filter, 2013)<br>"
   ]
  },
  {
   "cell_type": "code",
   "execution_count": 1,
   "metadata": {},
   "outputs": [],
   "source": [
    "import os\n",
    "import settings.input\n",
    "\n",
    "# Choose target and sensor-network\n",
    "input_files = []\n",
    "input_files.append(os.path.join(\"settings\",\"json_files\", \"target-rotating.json\"))\n",
    "input_files.append(os.path.join(\"settings\",\"json_files\", \"test-network-1.json\"))\n",
    "\n",
    "# Read input files\n",
    "input_data = settings.input.read(input_files)"
   ]
  },
  {
   "cell_type": "markdown",
   "metadata": {},
   "source": [
    "Consider a network of sensors connected as,"
   ]
  },
  {
   "cell_type": "code",
   "execution_count": 2,
   "metadata": {},
   "outputs": [
    {
     "name": "stderr",
     "output_type": "stream",
     "text": [
      "/usr/local/lib/python3.7/site-packages/networkx/drawing/nx_pylab.py:579: MatplotlibDeprecationWarning: \n",
      "The iterable function was deprecated in Matplotlib 3.1 and will be removed in 3.3. Use np.iterable instead.\n",
      "  if not cb.iterable(width):\n"
     ]
    },
    {
     "data": {
      "image/png": "[encoded data removed]",
      "text/plain": [
       "<Figure size 432x288 with 1 Axes>"
      ]
     },
     "metadata": {},
     "output_type": "display_data"
    }
   ],
   "source": [
    "from sim.helpers import show_graph\n",
    "show_graph(input_data[\"network\"][\"adjacency\"])"
   ]
  },
  {
   "cell_type": "markdown",
   "metadata": {},
   "source": [
    "Consider the scenario where sensors `'1'`, `3` and `4` have high estimation error; We expect this to cause poor performance at sensor `'3'`, for distributed estimation protocols that do not weight their neighbors' information (such as the Kalman Consensus Filter). "
   ]
  },
  {
   "cell_type": "code",
   "execution_count": 3,
   "metadata": {},
   "outputs": [],
   "source": [
    "input_data[\"network\"][\"noise_covariances\"][\"1\"] = [[10000, 0], [0, 10000]]\n",
    "input_data[\"network\"][\"noise_covariances\"][\"3\"] = [[10000, 0], [0, 10000]]\n",
    "input_data[\"network\"][\"noise_covariances\"][\"4\"] = [[10000, 0], [0, 10000]]"
   ]
  },
  {
   "cell_type": "markdown",
   "metadata": {},
   "source": [
    "Consider a target moving in circles (with system noise) being observed by our sensor network. <br>\n",
    "We compare the performance of KCF (Kalman Consensus Filter) & ICF (Information Consensus Filter) :"
   ]
  },
  {
   "cell_type": "code",
   "execution_count": null,
   "metadata": {},
   "outputs": [
    {
     "name": "stdout",
     "output_type": "stream",
     "text": [
      "Warning, the scheme KCF-WC is not fully distributed.\n",
      "Initializing a sensor network with KCF-WC scheme...\n",
      "Simulating for 3 time-steps...\n",
      "--Return--\n",
      "> /Users/shiraz/repos/sensor-network-sim/sim/estimators/KCF_WC.py(49)do_estimation()->None\n",
      "-> import pdb; pdb.set_trace()\n",
      "(Pdb) A\n",
      "[[array([[0., 0.],\n",
      "       [0., 0.]]), array([[0., 0.],\n",
      "       [0., 0.]])], [array([[0., 0.],\n",
      "       [0., 0.]]), array([[0., 0.],\n",
      "       [0., 0.]])]]\n",
      "(Pdb) B\n",
      "[array([[0., 0.],\n",
      "       [0., 0.]]), array([[0., 0.],\n",
      "       [0., 0.]])]\n",
      "(Pdb) C\n",
      "[array([[0., 0.],\n",
      "       [0., 0.]]), array([[0., 0.],\n",
      "       [0., 0.]])]\n",
      "(Pdb) self.neighbors\n",
      "['3', '4']\n",
      "(Pdb) A[0]\n",
      "[array([[0., 0.],\n",
      "       [0., 0.]]), array([[0., 0.],\n",
      "       [0., 0.]])]\n",
      "(Pdb) A[0][0]\n",
      "array([[0., 0.],\n",
      "       [0., 0.]])\n",
      "(Pdb) B[0]\n",
      "array([[0., 0.],\n",
      "       [0., 0.]])\n",
      "(Pdb) np.block(A) @ np.block(C)\n",
      "*** ValueError: matmul: Input operand 1 has a mismatch in its core dimension 0, with gufunc signature (n?,k),(k,m?)->(n?,m?) (size 2 is different from 4)\n",
      "(Pdb) np.block(A)\n",
      "array([[0., 0., 0., 0.],\n",
      "       [0., 0., 0., 0.],\n",
      "       [0., 0., 0., 0.],\n",
      "       [0., 0., 0., 0.]])\n",
      "(Pdb) np.block(C)\n",
      "array([[0., 0., 0., 0.],\n",
      "       [0., 0., 0., 0.]])\n",
      "(Pdb) np.block(B).T @ la.inv(np.block(A))\n",
      "*** NameError: name 'la' is not defined\n",
      "(Pdb) import numpy.linalg as la\n",
      "(Pdb) np.block(B).T @ la.inv(np.block(A))\n",
      "*** numpy.linalg.LinAlgError: Singular matrix\n",
      "(Pdb) A[:2,:2]\n",
      "*** TypeError: list indices must be integers or slices, not tuple\n",
      "(Pdb) A[0:2,0:2]\n",
      "*** TypeError: list indices must be integers or slices, not tuple\n",
      "(Pdb) A\n",
      "[[array([[0., 0.],\n",
      "       [0., 0.]]), array([[0., 0.],\n",
      "       [0., 0.]])], [array([[0., 0.],\n",
      "       [0., 0.]]), array([[0., 0.],\n",
      "       [0., 0.]])]]\n",
      "(Pdb) np.block(A)[0:2,0:2]\n",
      "array([[0., 0.],\n",
      "       [0., 0.]])\n",
      "(Pdb) A\n",
      "[[array([[0., 0.],\n",
      "       [0., 0.]]), array([[0., 0.],\n",
      "       [0., 0.]])], [array([[0., 0.],\n",
      "       [0., 0.]]), array([[0., 0.],\n",
      "       [0., 0.]])]]\n",
      "(Pdb) A[3,4]\n",
      "*** TypeError: list indices must be integers or slices, not tuple\n",
      "(Pdb) A[1,1]\n",
      "*** TypeError: list indices must be integers or slices, not tuple\n",
      "(Pdb) A[1:1,1:1]\n",
      "*** TypeError: list indices must be integers or slices, not tuple\n"
     ]
    }
   ],
   "source": [
    "from sim.simulation import simulate_many\n",
    "sensor_initials = {\"estimate_prior\": [[100], [40]],\n",
    "                   \"ErrCov_prior\": [[50,0],[0,50]]}\n",
    "\n",
    "results = simulate_many(input_data, duration = 3, est_schemes=[\"KCF-WC\"], \n",
    "                        sensor_initials=sensor_initials)\n",
    "print(\"KCF Scheme (Poor performance) : \")\n",
    "results[0].plot_xy(target=True, estimates_of=\"3\")\n",
    "# print(\"ICF Scheme (Better performance) : \")\n",
    "# results[1].plot_xy(target=True, estimates_of=\"3\")"
   ]
  },
  {
   "cell_type": "code",
   "execution_count": null,
   "metadata": {},
   "outputs": [],
   "source": [
    "###### Estimated Error Covariance\n",
    "# print(\"Estimated Error Covariance of sensor 3, using KCF :\")\n",
    "# results[0].plot_timeseries(ErrCov_of=\"3\")\n",
    "# print(\"Estimated Error Covariance of sensor 3, using ICF :\")\n",
    "# results[1].plot_timeseries(ErrCov_of=\"3\")"
   ]
  },
  {
   "cell_type": "markdown",
   "metadata": {},
   "source": [
    " "
   ]
  },
  {
   "cell_type": "markdown",
   "metadata": {},
   "source": [
    "Since the sensor network operates via its own classobjects, we can simulate two estimation schemes concurrently and compare their performances. <br>\n",
    "To simulate a single estimation scheme, use `sim.simulation.simulate`."
   ]
  },
  {
   "cell_type": "code",
   "execution_count": null,
   "metadata": {},
   "outputs": [],
   "source": []
  }
 ],
 "metadata": {
  "kernelspec": {
   "display_name": "Python 3",
   "language": "python",
   "name": "python3"
  },
  "language_info": {
   "codemirror_mode": {
    "name": "ipython",
    "version": 3
   },
   "file_extension": ".py",
   "mimetype": "text/x-python",
   "name": "python",
   "nbconvert_exporter": "python",
   "pygments_lexer": "ipython3",
   "version": "3.7.4"
  }
 },
 "nbformat": 4,
 "nbformat_minor": 2
}
