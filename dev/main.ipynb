{
 "cells": [
  {
   "cell_type": "markdown",
   "metadata": {},
   "source": [
    "### Sensor Network Simulation \n",
    "#### *Using consensus-based filters*"
   ]
  },
  {
   "cell_type": "markdown",
   "metadata": {},
   "source": [
    "Set up target & sensor network -"
   ]
  },
  {
   "cell_type": "code",
   "execution_count": 3,
   "metadata": {},
   "outputs": [
    {
     "data": {
      "text/plain": [
       "{'indexing_style': 'matlab',\n",
       " 'adjacency': [[1, 0, 1, 1, 0],\n",
       "  [0, 1, 1, 0, 1],\n",
       "  [1, 1, 1, 1, 1],\n",
       "  [1, 0, 1, 1, 0],\n",
       "  [0, 1, 1, 0, 1]],\n",
       " 'observation_matrices': {'default': [[1, 0], [0, 1]]},\n",
       " 'noise_covariances': {'default': [[5, 0], [0, 5]]}}"
      ]
     },
     "execution_count": 3,
     "metadata": {},
     "output_type": "execute_result"
    }
   ],
   "source": [
    "import os\n",
    "import settings.input\n",
    "import settings.initialize\n",
    "\n",
    "# Input (.json) files containing target, network\n",
    "simulation_file = os.path.join(\"settings\",\"json_files\", \"simulation.json\")\n",
    "sensor_network_file = os.path.join(\"settings\",\"json_files\", \"default-sensor-network.json\")\n",
    "\n",
    "# Read input files\n",
    "raw_data = settings.input.read_configs([simulation_file, sensor_network_file])\n",
    "raw_data[\"network\"]"
   ]
  },
  {
   "cell_type": "code",
   "execution_count": 4,
   "metadata": {},
   "outputs": [],
   "source": [
    "input_data  = settings.initialize.do_everything(raw_data)"
   ]
  },
  {
   "cell_type": "code",
   "execution_count": 8,
   "metadata": {
    "scrolled": true
   },
   "outputs": [],
   "source": [
    "import sim.target\n",
    "import sim.network\n",
    "import sim.history\n",
    "\n",
    "input_data[\"scheme\"] = \"OMVF\"\n",
    "input_data[\"network\"][\"noise_covariances\"][\"3\"] = [[300, 0], [0, 300]]\n",
    "target = sim.target.create(input_data)\n",
    "network = sim.network.create(input_data)\n",
    "omvf_h = sim.history.create(network)\n",
    "sim_history = omvf_h"
   ]
  },
  {
   "cell_type": "code",
   "execution_count": 9,
   "metadata": {},
   "outputs": [],
   "source": [
    "for t in range(50):\n",
    "\n",
    "    sim_history.add_target(target.x)\n",
    "\n",
    "    # Simulation...\n",
    "    network.make_measurements(target.x)\n",
    "\n",
    "    network.share_info_with_neighbors()\n",
    "    network.get_info_about_target(target)\n",
    "\n",
    "    network.do_estimations()\n",
    "    sim_history.add_estimates(network)\n",
    "\n",
    "    target.update()\n",
    "\n",
    "# sim_history.plot_xy(target=False, estimates_of=\"3\", measurements_of=\"2\")"
   ]
  },
  {
   "cell_type": "code",
   "execution_count": null,
   "metadata": {},
   "outputs": [],
   "source": [
    "# sim_history.plot_timeseries(ErrCov_of=\"2\")\n",
    "# plt.plot(plot_x, plot_y)"
   ]
  },
  {
   "cell_type": "code",
   "execution_count": null,
   "metadata": {},
   "outputs": [],
   "source": [
    "# vars(network.sensors[\"3\"])"
   ]
  },
  {
   "cell_type": "code",
   "execution_count": null,
   "metadata": {},
   "outputs": [],
   "source": [
    "from matplotlib import pyplot as plt\n",
    "import numpy.linalg as la\n",
    "FIGURE_SIZE = (7, 7)\n",
    "ErrCov_of = \"3\"\n",
    "\n",
    "plt.rcParams[\"figure.figsize\"] = FIGURE_SIZE\n",
    "y_vals = [la.norm(_matrix, 'fro') for _matrix in kcf_h.sensors[ErrCov_of][\"ErrCov\"]]\n",
    "plt.plot(y_vals, label=f\"KCF\")\n",
    "y_vals = [la.norm(_matrix, 'fro') for _matrix in icf_h.sensors[ErrCov_of][\"ErrCov\"]]\n",
    "plt.plot(y_vals, label=f\"ICF (2013)\")\n",
    "y_vals = [la.norm(_matrix, 'fro') for _matrix in omvf_h.sensors[ErrCov_of][\"ErrCov\"]]\n",
    "plt.plot(y_vals, label=f\"Optimal MVF\")\n",
    "\n",
    "\n",
    "plt.xlabel(\"Iteration\")\n",
    "plt.ylabel(\"Err Cov. (Frob. Norm)\")\n",
    "plt.legend(loc='upper right')\n",
    "plt.show()"
   ]
  },
  {
   "cell_type": "code",
   "execution_count": null,
   "metadata": {},
   "outputs": [],
   "source": [
    "input_data"
   ]
  },
  {
   "cell_type": "code",
   "execution_count": null,
   "metadata": {},
   "outputs": [],
   "source": [
    "# from sim.noise import Noise\n",
    "# from matplotlib.pyplot import plot, show\n",
    "# x = []\n",
    "# y = []\n",
    "# for i in range(200):\n",
    "#     a = Noise([[0.000002,0],[0,0.000002]]).sample()\n",
    "#     x.append(a[0])\n",
    "#     y.append(a[1])\n",
    "    \n",
    "# plot(x,y, 'ro')\n",
    "# show()"
   ]
  },
  {
   "cell_type": "code",
   "execution_count": null,
   "metadata": {},
   "outputs": [],
   "source": []
  },
  {
   "cell_type": "code",
   "execution_count": null,
   "metadata": {},
   "outputs": [],
   "source": []
  }
 ],
 "metadata": {
  "kernelspec": {
   "display_name": "Python 3",
   "language": "python",
   "name": "python3"
  },
  "language_info": {
   "codemirror_mode": {
    "name": "ipython",
    "version": 3
   },
   "file_extension": ".py",
   "mimetype": "text/x-python",
   "name": "python",
   "nbconvert_exporter": "python",
   "pygments_lexer": "ipython3",
   "version": "3.7.4"
  }
 },
 "nbformat": 4,
 "nbformat_minor": 2
}
