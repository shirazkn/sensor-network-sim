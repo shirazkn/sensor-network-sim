{
 "cells": [
  {
   "cell_type": "markdown",
   "metadata": {},
   "source": [
    "### Sensor Network Simulation \n",
    "#### *Distributed estimation using a network of consensus-based filters*"
   ]
  },
  {
   "cell_type": "markdown",
   "metadata": {},
   "source": [
    "Set up target & sensor network:"
   ]
  },
  {
   "cell_type": "code",
   "execution_count": 1,
   "metadata": {},
   "outputs": [],
   "source": [
    "import sys\n",
    "sys.path.append('..')\n",
    "\n",
    "import os\n",
    "import settings.input\n",
    "import settings.initialize\n",
    "\n",
    "# Input (.json) files containing target, network\n",
    "input_files = []\n",
    "input_files.append(os.path.join(\"..\", \"settings\",\"json_files\", \"target.json\"))\n",
    "input_files.append(os.path.join(\"..\", \"settings\",\"json_files\", \"sensor-network.json\"))\n",
    "\n",
    "# Read input files\n",
    "raw_data = settings.input.read_configs(input_files)\n",
    "input_data  = settings.initialize.do_everything(raw_data)"
   ]
  },
  {
   "cell_type": "markdown",
   "metadata": {},
   "source": [
    "So that loads a 'default' target and sensor network. Any special matrices can be patched here before simulating:"
   ]
  },
  {
   "cell_type": "code",
   "execution_count": 2,
   "metadata": {
    "scrolled": true
   },
   "outputs": [],
   "source": [
    "input_data[\"scheme\"] = \"OMVF\"\n",
    "input_data[\"network\"][\"noise_covariances\"][\"3\"] = [[300, 0], [0, 300]]"
   ]
  },
  {
   "cell_type": "markdown",
   "metadata": {},
   "source": [
    "Run simulation:"
   ]
  },
  {
   "cell_type": "code",
   "execution_count": 3,
   "metadata": {},
   "outputs": [
    {
     "name": "stdout",
     "output_type": "stream",
     "text": [
      "Plotted history of sensor 2's measurements.\n",
      "Plotted history of sensor 2's estimates.\n"
     ]
    },
    {
     "data": {
      "text/plain": [
       "<Figure size 700x700 with 1 Axes>"
      ]
     },
     "metadata": {},
     "output_type": "display_data"
    },
    {
     "name": "stdout",
     "output_type": "stream",
     "text": [
      "Plotted history of target coordinates.\n",
      "Plotted history of sensor 3's measurements.\n",
      "Plotted history of sensor 3's estimates.\n"
     ]
    },
    {
     "data": {
      "text/plain": [
       "<Figure size 700x700 with 1 Axes>"
      ]
     },
     "metadata": {},
     "output_type": "display_data"
    }
   ],
   "source": [
    "from simulation import simulate\n",
    "sim_history = simulate(input_data, duration = 50)\n",
    "\n",
    "sim_history.plot_xy(target=False, estimates_of=\"2\", measurements_of=\"2\")\n",
    "sim_history.plot_xy(target=True, estimates_of=\"3\", measurements_of=\"3\")"
   ]
  },
  {
   "cell_type": "code",
   "execution_count": null,
   "metadata": {},
   "outputs": [],
   "source": []
  },
  {
   "cell_type": "code",
   "execution_count": 4,
   "metadata": {},
   "outputs": [],
   "source": [
    "# vars(network.sensors[\"3\"])"
   ]
  },
  {
   "cell_type": "code",
   "execution_count": 5,
   "metadata": {},
   "outputs": [],
   "source": [
    "# from matplotlib import pyplot as plt\n",
    "# import numpy.linalg as la\n",
    "# FIGURE_SIZE = (7, 7)\n",
    "# ErrCov_of = \"3\"\n",
    "\n",
    "# plt.rcParams[\"figure.figsize\"] = FIGURE_SIZE\n",
    "# y_vals = [la.norm(_matrix, 'fro') for _matrix in kcf_h.sensors[ErrCov_of][\"ErrCov\"]]\n",
    "# plt.plot(y_vals, label=f\"KCF\")\n",
    "# y_vals = [la.norm(_matrix, 'fro') for _matrix in icf_h.sensors[ErrCov_of][\"ErrCov\"]]\n",
    "# plt.plot(y_vals, label=f\"ICF (2013)\")\n",
    "# y_vals = [la.norm(_matrix, 'fro') for _matrix in omvf_h.sensors[ErrCov_of][\"ErrCov\"]]\n",
    "# plt.plot(y_vals, label=f\"Optimal MVF\")\n",
    "\n",
    "\n",
    "# plt.xlabel(\"Iteration\")\n",
    "# plt.ylabel(\"Err Cov. (Frob. Norm)\")\n",
    "# plt.legend(loc='upper right')\n",
    "# plt.show()"
   ]
  },
  {
   "cell_type": "code",
   "execution_count": null,
   "metadata": {},
   "outputs": [],
   "source": []
  },
  {
   "cell_type": "code",
   "execution_count": 6,
   "metadata": {},
   "outputs": [],
   "source": [
    "# from sim.noise import Noise\n",
    "# from matplotlib.pyplot import plot, show\n",
    "# x = []\n",
    "# y = []\n",
    "# for i in range(200):\n",
    "#     a = Noise([[0.000002,0],[0,0.000002]]).sample()\n",
    "#     x.append(a[0])\n",
    "#     y.append(a[1])\n",
    "    \n",
    "# plot(x,y, 'ro')\n",
    "# show()"
   ]
  }
 ],
 "metadata": {
  "kernelspec": {
   "display_name": "Python 3",
   "language": "python",
   "name": "python3"
  },
  "language_info": {
   "codemirror_mode": {
    "name": "ipython",
    "version": 3
   },
   "file_extension": ".py",
   "mimetype": "text/x-python",
   "name": "python",
   "nbconvert_exporter": "python",
   "pygments_lexer": "ipython3",
   "version": "3.7.4"
  }
 },
 "nbformat": 4,
 "nbformat_minor": 2
}
