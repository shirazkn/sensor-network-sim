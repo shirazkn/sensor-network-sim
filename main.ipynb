{
 "cells": [
  {
   "cell_type": "markdown",
   "metadata": {},
   "source": [
    "#### Sensor Network Simulation \n",
    "##### *using consensus based filters*"
   ]
  },
  {
   "cell_type": "code",
   "execution_count": 34,
   "metadata": {},
   "outputs": [
    {
     "data": {
      "text/plain": [
       "<module 'settings.initialize' from '/Users/shiraz/repos/sensor-network-sim/settings/initialize.py'>"
      ]
     },
     "execution_count": 34,
     "metadata": {},
     "output_type": "execute_result"
    }
   ],
   "source": [
    "# Import modules\n",
    "import os\n",
    "import settings.input\n",
    "import settings.initialize\n",
    "\n",
    "# Reload local modules (for testing)\n",
    "import imp\n",
    "imp.reload(settings.input)\n",
    "imp.reload(settings.initialize)"
   ]
  },
  {
   "cell_type": "code",
   "execution_count": 39,
   "metadata": {},
   "outputs": [],
   "source": [
    "# Get input files\n",
    "simulation_file = os.path.join(\"settings\",\"json_files\", \"simulation.json\")\n",
    "sensor_network_file = os.path.join(\"settings\",\"json_files\", \"default-sensor-network.json\")\n",
    "\n",
    "# Read input files\n",
    "raw_data = settings.input.read_configs([simulation_file, sensor_network_file])\n",
    "input_data  = settings.initialize.do_everything(raw_data)"
   ]
  },
  {
   "cell_type": "code",
   "execution_count": 40,
   "metadata": {},
   "outputs": [
    {
     "data": {
      "text/plain": [
       "<module 'sim.history' from '/Users/shiraz/repos/sensor-network-sim/sim/history.py'>"
      ]
     },
     "execution_count": 40,
     "metadata": {},
     "output_type": "execute_result"
    }
   ],
   "source": [
    "import sim.target\n",
    "import sim.network\n",
    "import sim.history\n",
    "\n",
    "# Reload local modules (for testing)\n",
    "import imp\n",
    "imp.reload(sim.target)\n",
    "imp.reload(sim.network)\n",
    "imp.reload(sim.history)"
   ]
  },
  {
   "cell_type": "code",
   "execution_count": 132,
   "metadata": {
    "scrolled": true
   },
   "outputs": [],
   "source": [
    "\n",
    "input_data[\"scheme\"] = \"OMVF\"\n",
    "input_data[\"network\"][\"noise_covariances\"][\"3\"] = [[300, 0], [0, 300]]\n",
    "target = sim.target.create(input_data)\n",
    "network = sim.network.create(input_data)\n",
    "omvf_h = sim.history.create(network)\n",
    "sim_history = omvf_h\n",
    "\n",
    "for t in range(50):\n",
    "\n",
    "    sim_history.add_target(target.x)\n",
    "\n",
    "    # Simulation...\n",
    "    network.make_measurements(target.x)\n",
    "\n",
    "    network.share_info_with_neighbors()\n",
    "    network.get_info_about_target(target)\n",
    "\n",
    "    network.do_estimations()\n",
    "    sim_history.add_estimates(network)\n",
    "\n",
    "    target.update()\n",
    "\n",
    "# sim_history.plot_xy(target=False, estimates_of=\"3\", measurements_of=\"2\")"
   ]
  },
  {
   "cell_type": "code",
   "execution_count": 129,
   "metadata": {},
   "outputs": [
    {
     "data": {
      "text/plain": [
       "[<matplotlib.lines.Line2D at 0x131163c50>]"
      ]
     },
     "execution_count": 129,
     "metadata": {},
     "output_type": "execute_result"
    },
    {
     "data": {
      "image/png": "[encoded data removed]",
      "text/plain": [
       "<Figure size 504x504 with 1 Axes>"
      ]
     },
     "metadata": {
      "needs_background": "light"
     },
     "output_type": "display_data"
    }
   ],
   "source": [
    "# sim_history.plot_timeseries(ErrCov_of=\"2\")\n",
    "# plt.plot(plot_x, plot_y)"
   ]
  },
  {
   "cell_type": "code",
   "execution_count": 127,
   "metadata": {},
   "outputs": [
    {
     "data": {
      "text/plain": [
       "{'id': '3', 'neighbors': ['1', '2', '4', '5'], 'Obs': array([[300,   0],\n",
       "        [  0, 300]]), 'NoiseCov': array([[300,   0],\n",
       "        [  0, 300]]), 'measurement': array([[25194.94493225],\n",
       "        [13053.3881202 ]]), 'noise': <sim.noise.Noise at 0x12f685fd0>, 'estimate': array([[85.30141966],\n",
       "        [43.9366957 ]]), 'ErrCov': array([[5.79156198e-01, 4.26614172e-19],\n",
       "        [5.33859196e-19, 5.79156198e-01]]), 'estimate_prior': array([[84.95371431],\n",
       "        [44.60528948]]), 'ErrCov_prior': array([[1.57915620e+00, 1.48119583e-18],\n",
       "        [1.85354840e-18, 1.57915620e+00]]), 'v': array([[36.82142227],\n",
       "        [18.96582298]]), 'V': array([[ 4.31662479e-01, -3.17968334e-19],\n",
       "        [-3.97901266e-19,  4.31662479e-01]]), 'eps': 1.0}"
      ]
     },
     "execution_count": 127,
     "metadata": {},
     "output_type": "execute_result"
    }
   ],
   "source": [
    "# vars(network.sensors[\"3\"])"
   ]
  },
  {
   "cell_type": "code",
   "execution_count": 139,
   "metadata": {},
   "outputs": [
    {
     "data": {
      "image/png": "[encoded data removed]",
      "text/plain": [
       "<Figure size 504x504 with 1 Axes>"
      ]
     },
     "metadata": {
      "needs_background": "light"
     },
     "output_type": "display_data"
    }
   ],
   "source": [
    "from matplotlib import pyplot as plt\n",
    "import numpy.linalg as la\n",
    "FIGURE_SIZE = (7, 7)\n",
    "ErrCov_of = \"3\"\n",
    "\n",
    "plt.rcParams[\"figure.figsize\"] = FIGURE_SIZE\n",
    "y_vals = [la.norm(_matrix, 'fro') for _matrix in kcf_h.sensors[ErrCov_of][\"ErrCov\"]]\n",
    "plt.plot(y_vals, label=f\"KCF\")\n",
    "y_vals = [la.norm(_matrix, 'fro') for _matrix in icf_h.sensors[ErrCov_of][\"ErrCov\"]]\n",
    "plt.plot(y_vals, label=f\"ICF (2013)\")\n",
    "y_vals = [la.norm(_matrix, 'fro') for _matrix in omvf_h.sensors[ErrCov_of][\"ErrCov\"]]\n",
    "plt.plot(y_vals, label=f\"Optimal MVF\")\n",
    "\n",
    "\n",
    "plt.xlabel(\"Iteration\")\n",
    "plt.ylabel(\"Err Cov. (Frob. Norm)\")\n",
    "plt.legend(loc='upper right')\n",
    "plt.show()"
   ]
  },
  {
   "cell_type": "code",
   "execution_count": 7,
   "metadata": {},
   "outputs": [
    {
     "data": {
      "text/plain": [
       "{'simulation': {'total_steps': 1000},\n",
       " 'target': {'constraints': {'x_initial': [100, 0]},\n",
       "  'state_space': {'ss_A': array([[ 0.99996916, -0.0078539 ],\n",
       "          [ 0.0078539 ,  0.99996916]]), 'ss_B': array([[1, 0],\n",
       "          [0, 1]]), 'dimension': 2},\n",
       "  'noise_covariance': [[1, 0], [0, 1]]},\n",
       " 'network': {'indexing_style': 'matlab',\n",
       "  'adjacency': [[1, 0, 1, 1, 0],\n",
       "   [0, 1, 1, 0, 1],\n",
       "   [1, 1, 1, 1, 1],\n",
       "   [1, 0, 1, 1, 0],\n",
       "   [0, 1, 1, 0, 1]],\n",
       "  'observation_matrices': {'1': [[1, 0], [0, 1]],\n",
       "   '2': [[1, 0], [0, 1]],\n",
       "   '3': [[1, 0], [0, 1]],\n",
       "   '4': [[1, 0], [0, 1]],\n",
       "   '5': [[1, 0], [0, 1]]},\n",
       "  'noise_covariances': {'1': [[5, 0], [0, 5]],\n",
       "   '2': [[5, 0], [0, 5]],\n",
       "   '3': [[5, 0], [0, 5]],\n",
       "   '4': [[5, 0], [0, 5]],\n",
       "   '5': [[5, 0], [0, 5]]},\n",
       "  'n_sensors': 5},\n",
       " 'scheme': 'OMVF'}"
      ]
     },
     "execution_count": 7,
     "metadata": {},
     "output_type": "execute_result"
    }
   ],
   "source": [
    "input_data"
   ]
  },
  {
   "cell_type": "code",
   "execution_count": 8,
   "metadata": {},
   "outputs": [],
   "source": [
    "# from sim.noise import Noise\n",
    "# from matplotlib.pyplot import plot, show\n",
    "# x = []\n",
    "# y = []\n",
    "# for i in range(200):\n",
    "#     a = Noise([[0.000002,0],[0,0.000002]]).sample()\n",
    "#     x.append(a[0])\n",
    "#     y.append(a[1])\n",
    "    \n",
    "# plot(x,y, 'ro')\n",
    "# show()"
   ]
  },
  {
   "cell_type": "code",
   "execution_count": null,
   "metadata": {},
   "outputs": [],
   "source": []
  },
  {
   "cell_type": "code",
   "execution_count": null,
   "metadata": {},
   "outputs": [],
   "source": []
  }
 ],
 "metadata": {
  "kernelspec": {
   "display_name": "Python 3",
   "language": "python",
   "name": "python3"
  },
  "language_info": {
   "codemirror_mode": {
    "name": "ipython",
    "version": 3
   },
   "file_extension": ".py",
   "mimetype": "text/x-python",
   "name": "python",
   "nbconvert_exporter": "python",
   "pygments_lexer": "ipython3",
   "version": "3.7.4"
  }
 },
 "nbformat": 4,
 "nbformat_minor": 2
}
