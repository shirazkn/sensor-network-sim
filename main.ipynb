{
 "cells": [
  {
   "cell_type": "code",
   "execution_count": 333,
   "metadata": {},
   "outputs": [
    {
     "data": {
      "text/plain": [
       "<module 'input.initialize' from '/Users/shiraz/Projects/sensor-network-sim/input/initialize.py'>"
      ]
     },
     "execution_count": 333,
     "metadata": {},
     "output_type": "execute_result"
    }
   ],
   "source": [
    "import os\n",
    "import input.input_output\n",
    "import input.initialize\n",
    "\n",
    "import imp\n",
    "imp.reload(input.input_output)\n",
    "imp.reload(input.initialize)\n"
   ]
  },
  {
   "cell_type": "code",
   "execution_count": 334,
   "metadata": {},
   "outputs": [],
   "source": [
    "# Write thread here\n",
    "simulation_file = os.path.join(\"input\",\"json_files\", \"simulation\",  \"ICF-sim.json\")\n",
    "sensor_network_file = os.path.join(\"input\",\"json_files\", \"sensor_network\",  \"ICF-sensor-network.json\")\n",
    "\n",
    "# Take simulation data\n",
    "raw_data = input.input_output.read_configs([simulation_file, sensor_network_file])\n",
    "input_data  = input.initialize.do_everything(raw_data)"
   ]
  },
  {
   "cell_type": "code",
   "execution_count": 335,
   "metadata": {},
   "outputs": [
    {
     "data": {
      "text/plain": [
       "{'scheme': 'KCF-BWG',\n",
       " 'network': {'adjacency': [[1, 0, 1, 1, 0],\n",
       "   [0, 1, 1, 0, 1],\n",
       "   [1, 1, 1, 1, 1],\n",
       "   [1, 0, 1, 1, 0],\n",
       "   [0, 1, 1, 0, 1]],\n",
       "  'n_sensors': 5,\n",
       "  'observability': [[[1, 0], [0, 1]],\n",
       "   [[1, 0], [0, 1]],\n",
       "   [[1, 0], [0, 1]],\n",
       "   [[0.5, 0], [0, 1.1]],\n",
       "   [[1, 0], [0, 1]]],\n",
       "  'noise': [[[1, 0], [0, 1]],\n",
       "   [[1, 0], [0, 1]],\n",
       "   [[1, 0], [0, 1]],\n",
       "   [[4, 0], [0, 4]],\n",
       "   [[1, 0], [0, 1]]]},\n",
       " 'simulation': {'total_steps': 1000},\n",
       " 'target': {'constraints': {'x_initial': [20, 0]},\n",
       "  'state': {'ss_A': array([[ 0.99987663, -0.01570732],\n",
       "          [ 0.01570732,  0.99987663]]), 'ss_B': array([[1, 0],\n",
       "          [0, 1]]), 'dimension': 2},\n",
       "  'noise': [[1, 0], [0, 1]]}}"
      ]
     },
     "execution_count": 335,
     "metadata": {},
     "output_type": "execute_result"
    }
   ],
   "source": [
    "# Test data here\n",
    "input_data"
   ]
  },
  {
   "cell_type": "code",
   "execution_count": 358,
   "metadata": {
    "scrolled": true
   },
   "outputs": [
    {
     "data": {
      "text/plain": [
       "[[1, 0], [0, 1]]"
      ]
     },
     "execution_count": 358,
     "metadata": {},
     "output_type": "execute_result"
    }
   ],
   "source": [
    "# Simulation\n",
    "# history = {\n",
    "#     \"x\" : [],\n",
    "#     \"xhat\" : [],\n",
    "#     \"xbar\" : []\n",
    "# } ~ move to class\n",
    "data[\"target\"][\"noise\"]\n"
   ]
  },
  {
   "cell_type": "code",
   "execution_count": 402,
   "metadata": {},
   "outputs": [],
   "source": [
    "import numpy as np\n",
    "from scipy import stats as sps\n",
    "\n",
    "def column(vector):\n",
    "    return vector.reshape(len(vector), 1)\n",
    "\n",
    "class Noise:\n",
    "    def __init__(self, _cov):\n",
    "        self.r_var = sps.multivariate_normal(mean=None, cov=_cov)\n",
    "        self.dim =len(_cov)\n",
    "        \n",
    "    def __call__(self):\n",
    "        return self.r_var.rvs().reshape(self.dim, 1)\n",
    "        \n",
    "    def update_cov(self, _cov):\n",
    "        if len(_cov) == self.dim:\n",
    "            self.r_var.cov = _cov\n",
    "        else:\n",
    "            raise ValueError(\"Invalid co-variance\")\n",
    "    \n",
    "class Target:\n",
    "    def __init__(self, target_data):\n",
    "        self.A = np.array(target_data[\"state\"][\"ss_A\"])\n",
    "        self.B = np.array(target_data[\"state\"][\"ss_B\"])\n",
    "        self.Q = np.array(target_data[\"noise\"])\n",
    "        self.x = np.array(target_data[\"constraints\"][\"x_initial\"])\n",
    "        self.x = column(self.x)\n",
    "        self.w = Noise(self.Q)\n",
    "    \n",
    "    def update(self):\n",
    "        self.x = (self.A @ self.x) +(self.B @ self.w())\n",
    "        \n",
    "target = Target(data[\"target\"])"
   ]
  },
  {
   "cell_type": "code",
   "execution_count": null,
   "metadata": {},
   "outputs": [],
   "source": []
  },
  {
   "cell_type": "code",
   "execution_count": 403,
   "metadata": {},
   "outputs": [
    {
     "data": {
      "text/plain": [
       "[<matplotlib.lines.Line2D at 0x123ba91d0>]"
      ]
     },
     "execution_count": 403,
     "metadata": {},
     "output_type": "execute_result"
    },
    {
     "data": {
      "image/png": "[encoded data removed]",
      "text/plain": [
       "<Figure size 432x288 with 1 Axes>"
      ]
     },
     "metadata": {
      "needs_background": "light"
     },
     "output_type": "display_data"
    }
   ],
   "source": [
    "import matplotlib.pyplot as plt\n",
    "xhis = [[],[]]\n",
    "for t in range(500):\n",
    "    xhis[0].append(target.x[0])\n",
    "    xhis[1].append(target.x[1])\n",
    "    target.update()\n",
    "plt.plot(xhis[0],xhis[1])"
   ]
  },
  {
   "cell_type": "code",
   "execution_count": null,
   "metadata": {},
   "outputs": [],
   "source": [
    "\n"
   ]
  }
 ],
 "metadata": {
  "kernelspec": {
   "display_name": "Python 3",
   "language": "python",
   "name": "python3"
  },
  "language_info": {
   "codemirror_mode": {
    "name": "ipython",
    "version": 3
   },
   "file_extension": ".py",
   "mimetype": "text/x-python",
   "name": "python",
   "nbconvert_exporter": "python",
   "pygments_lexer": "ipython3",
   "version": "3.7.3"
  }
 },
 "nbformat": 4,
 "nbformat_minor": 2
}
