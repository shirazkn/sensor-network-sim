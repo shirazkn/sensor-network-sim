{
 "cells": [
  {
   "cell_type": "code",
   "execution_count": 14,
   "metadata": {},
   "outputs": [
    {
     "data": {
      "text/plain": [
       "<module 'settings.initialize' from '/Users/shiraz/repos/sensor-network-sim/settings/initialize.py'>"
      ]
     },
     "execution_count": 14,
     "metadata": {},
     "output_type": "execute_result"
    }
   ],
   "source": [
    "# Import modules\n",
    "import os\n",
    "import settings.input\n",
    "import settings.initialize\n",
    "\n",
    "# Reload local modules (for testing)\n",
    "import imp\n",
    "imp.reload(settings.input)\n",
    "imp.reload(settings.initialize)"
   ]
  },
  {
   "cell_type": "code",
   "execution_count": 15,
   "metadata": {},
   "outputs": [],
   "source": [
    "# Get input files\n",
    "simulation_file = os.path.join(\"settings\",\"json_files\", \"simulation\",  \"ICF-sim.json\")\n",
    "sensor_network_file = os.path.join(\"settings\",\"json_files\", \"sensor_network\",  \"ICF-sensor-network.json\")\n",
    "\n",
    "# Read input files\n",
    "raw_data = settings.input.read_configs([simulation_file, sensor_network_file])\n",
    "input_data  = settings.initialize.do_everything(raw_data)"
   ]
  },
  {
   "cell_type": "code",
   "execution_count": 16,
   "metadata": {},
   "outputs": [
    {
     "data": {
      "text/plain": [
       "<module 'sim.history' from '/Users/shiraz/repos/sensor-network-sim/sim/history.py'>"
      ]
     },
     "execution_count": 16,
     "metadata": {},
     "output_type": "execute_result"
    }
   ],
   "source": [
    "import sim.target\n",
    "import sim.network\n",
    "import sim.history\n",
    "\n",
    "# Reload local modules (for testing)\n",
    "import imp\n",
    "imp.reload(sim.target)\n",
    "imp.reload(sim.network)\n",
    "imp.reload(sim.history)"
   ]
  },
  {
   "cell_type": "code",
   "execution_count": 33,
   "metadata": {},
   "outputs": [
    {
     "data": {
      "image/png": "[encoded data removed]",
      "text/plain": [
       "<Figure size 432x288 with 1 Axes>"
      ]
     },
     "metadata": {
      "needs_background": "light"
     },
     "output_type": "display_data"
    }
   ],
   "source": [
    "target = sim.target.create(input_data)\n",
    "network = sim.network.create(input_data)\n",
    "\n",
    "sim_history = sim.history.create(network)\n",
    "\n",
    "for t in range(1):\n",
    "    sim_history.add(target_x=target.x)\n",
    "    network.make_measurements(target.x)\n",
    "    \n",
    "    # Do estimation here\n",
    "    \n",
    "    target.update()\n",
    "\n",
    "sim_history.plot_xy(estimates=False)"
   ]
  },
  {
   "cell_type": "code",
   "execution_count": 35,
   "metadata": {},
   "outputs": [
    {
     "ename": "AttributeError",
     "evalue": "'Sensor' object has no attribute 'neighbors'",
     "output_type": "error",
     "traceback": [
      "\u001b[0;31m---------------------------------------------------------------------------\u001b[0m",
      "\u001b[0;31mAttributeError\u001b[0m                            Traceback (most recent call last)",
      "\u001b[0;32m<ipython-input-35-3a9d5cf3dfa6>\u001b[0m in \u001b[0;36m<module>\u001b[0;34m\u001b[0m\n\u001b[1;32m      1\u001b[0m \u001b[0;32mfor\u001b[0m \u001b[0msensor\u001b[0m \u001b[0;32min\u001b[0m \u001b[0mnetwork\u001b[0m\u001b[0;34m.\u001b[0m\u001b[0msensors\u001b[0m\u001b[0;34m.\u001b[0m\u001b[0mvalues\u001b[0m\u001b[0;34m(\u001b[0m\u001b[0;34m)\u001b[0m\u001b[0;34m:\u001b[0m\u001b[0;34m\u001b[0m\u001b[0;34m\u001b[0m\u001b[0m\n\u001b[0;32m----> 2\u001b[0;31m     \u001b[0mprint\u001b[0m\u001b[0;34m(\u001b[0m\u001b[0msensor\u001b[0m\u001b[0;34m.\u001b[0m\u001b[0mneighbors\u001b[0m\u001b[0;34m)\u001b[0m\u001b[0;34m\u001b[0m\u001b[0;34m\u001b[0m\u001b[0m\n\u001b[0m",
      "\u001b[0;31mAttributeError\u001b[0m: 'Sensor' object has no attribute 'neighbors'"
     ]
    }
   ],
   "source": [
    "for sensor in network.sensors.values():\n",
    "    print(sensor.neighbors)"
   ]
  },
  {
   "cell_type": "code",
   "execution_count": 23,
   "metadata": {},
   "outputs": [
    {
     "data": {
      "text/plain": [
       "array([[-9.0859526 ],\n",
       "       [21.87574001]])"
      ]
     },
     "execution_count": 23,
     "metadata": {},
     "output_type": "execute_result"
    }
   ],
   "source": [
    "target.x"
   ]
  },
  {
   "cell_type": "code",
   "execution_count": 24,
   "metadata": {},
   "outputs": [
    {
     "data": {
      "text/plain": [
       "{'scheme': 'KCF-BWG',\n",
       " 'network': {'adjacency': [[1, 0, 1, 1, 0],\n",
       "   [0, 1, 1, 0, 1],\n",
       "   [1, 1, 1, 1, 1],\n",
       "   [1, 0, 1, 1, 0],\n",
       "   [0, 1, 1, 0, 1]],\n",
       "  'n_sensors': 5,\n",
       "  'observability': [[[1, 0], [0, 1]],\n",
       "   [[1, 0], [0, 1]],\n",
       "   [[1, 0], [0, 1]],\n",
       "   [[0.5, 0], [0, 1.1]],\n",
       "   [[1, 0], [0, 1]]],\n",
       "  'noise': [[[1, 0], [0, 1]],\n",
       "   [[1, 0], [0, 1]],\n",
       "   [[1, 0], [0, 1]],\n",
       "   [[4, 0], [0, 4]],\n",
       "   [[1, 0], [0, 1]]]},\n",
       " 'simulation': {'total_steps': 1000},\n",
       " 'target': {'constraints': {'x_initial': [20, 0]},\n",
       "  'state': {'ss_A': array([[ 0.99987663, -0.01570732],\n",
       "          [ 0.01570732,  0.99987663]]), 'ss_B': array([[1, 0],\n",
       "          [0, 1]]), 'dimension': 2},\n",
       "  'noise': [[1, 0], [0, 1]]}}"
      ]
     },
     "execution_count": 24,
     "metadata": {},
     "output_type": "execute_result"
    }
   ],
   "source": [
    "input_data\n"
   ]
  },
  {
   "cell_type": "code",
   "execution_count": null,
   "metadata": {},
   "outputs": [],
   "source": []
  }
 ],
 "metadata": {
  "kernelspec": {
   "display_name": "Python 3",
   "language": "python",
   "name": "python3"
  },
  "language_info": {
   "codemirror_mode": {
    "name": "ipython",
    "version": 3
   },
   "file_extension": ".py",
   "mimetype": "text/x-python",
   "name": "python",
   "nbconvert_exporter": "python",
   "pygments_lexer": "ipython3",
   "version": "3.7.3"
  }
 },
 "nbformat": 4,
 "nbformat_minor": 2
}
