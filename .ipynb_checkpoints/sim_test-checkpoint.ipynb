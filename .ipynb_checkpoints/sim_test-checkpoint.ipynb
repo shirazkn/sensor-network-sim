{
 "cells": [
  {
   "cell_type": "code",
   "execution_count": 1,
   "metadata": {},
   "outputs": [],
   "source": [
    "import os\n",
    "import input.input_output\n",
    "import input.initialize\n"
   ]
  },
  {
   "cell_type": "code",
   "execution_count": 16,
   "metadata": {},
   "outputs": [],
   "source": [
    "# Write thread here\n",
    "simulation_file = os.path.join(\"input\",\"json_files\", \"simulation\",  \"ICF-sim.json\")\n",
    "sensor_network_file = os.path.join(\"input\",\"json-files\", \"sensor-network\",  \"ICF-sim.json\")\n",
    "\n",
    "# Take simulation data\n",
    "data = input.input_output.read_config(simulation_file)\n",
    "\n",
    "input.input_output.sanity_check(data)\n",
    "input.initialize.pre_process_target(data[\"target\"])\n",
    "input.initialize.pre_process_network(data[\"network\"])\n",
    "\n",
    "simulation = data[\"simulation\"]\n",
    "target = data[\"target\"]\n",
    "network = data[\"network\"]\n",
    "\n",
    "# Take sensor network data"
   ]
  },
  {
   "cell_type": "code",
   "execution_count": 17,
   "metadata": {},
   "outputs": [
    {
     "data": {
      "text/plain": [
       "{'network': {'adjacency': [[1, 0, 1, 1, 0],\n",
       "   [0, 1, 1, 0, 1],\n",
       "   [1, 1, 1, 1, 1],\n",
       "   [1, 0, 1, 1, 0],\n",
       "   [0, 1, 1, 0, 1]],\n",
       "  'n_sensors': 5},\n",
       " 'simulation': {'total_steps': 1000},\n",
       " 'target': {'constraints': {'x_initial': [20, 0]},\n",
       "  'state': {'motion': {'type': 'circular', 'parameter': 200.0},\n",
       "   'dimension': 2},\n",
       "  'noise': {'dimension': 2},\n",
       "  'state_space': {'ss_A': array([[ 0.99987663, -0.01570732],\n",
       "          [ 0.01570732,  0.99987663]]), 'ss_B': array([[1, 0],\n",
       "          [0, 1]])}}}"
      ]
     },
     "execution_count": 17,
     "metadata": {},
     "output_type": "execute_result"
    }
   ],
   "source": [
    "# Test data here\n",
    "\n",
    "data"
   ]
  },
  {
   "cell_type": "code",
   "execution_count": 10,
   "metadata": {},
   "outputs": [
    {
     "data": {
      "text/plain": [
       "{'network': {'adjacency': [[1, 0, 1, 1, 0],\n",
       "   [0, 1, 1, 0, 1],\n",
       "   [1, 1, 1, 1, 1],\n",
       "   [1, 0, 1, 1, 0],\n",
       "   [0, 1, 1, 0, 1]]},\n",
       " 'simulation': {'total_steps': 1000},\n",
       " 'target': {'constraints': {'x_initial': [20, 0]},\n",
       "  'state': {'motion': {'type': 'circular', 'parameter': 200.0}},\n",
       "  'noise': {},\n",
       "  'state_space': {'ss_A': [], 'ss_B': [[1, 0], [0, 1]]}}}"
      ]
     },
     "execution_count": 10,
     "metadata": {},
     "output_type": "execute_result"
    }
   ],
   "source": [
    "data"
   ]
  },
  {
   "cell_type": "code",
   "execution_count": null,
   "metadata": {},
   "outputs": [],
   "source": [
    "# Insert into function\n",
    "\n",
    "def simulate():\n"
   ]
  }
 ],
 "metadata": {
  "kernelspec": {
   "display_name": "Python 3",
   "language": "python",
   "name": "python3"
  },
  "language_info": {
   "codemirror_mode": {
    "name": "ipython",
    "version": 3
   },
   "file_extension": ".py",
   "mimetype": "text/x-python",
   "name": "python",
   "nbconvert_exporter": "python",
   "pygments_lexer": "ipython3",
   "version": "3.7.3"
  }
 },
 "nbformat": 4,
 "nbformat_minor": 2
}
