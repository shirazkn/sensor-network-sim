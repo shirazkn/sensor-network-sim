{
 "cells": [
  {
   "cell_type": "code",
   "execution_count": 4,
   "metadata": {},
   "outputs": [
    {
     "data": {
      "text/plain": [
       "<module 'settings.initialize' from '/Users/shiraz/repos/sensor-network-sim/settings/initialize.py'>"
      ]
     },
     "execution_count": 4,
     "metadata": {},
     "output_type": "execute_result"
    }
   ],
   "source": [
    "# Import modules\n",
    "import os\n",
    "import settings.input\n",
    "import settings.initialize\n",
    "\n",
    "# Reload local modules (for testing)\n",
    "import imp\n",
    "imp.reload(settings.input)\n",
    "imp.reload(settings.initialize)"
   ]
  },
  {
   "cell_type": "code",
   "execution_count": 5,
   "metadata": {},
   "outputs": [],
   "source": [
    "# Get input files\n",
    "simulation_file = os.path.join(\"settings\",\"json_files\", \"simulation\",  \"ICF-sim.json\")\n",
    "sensor_network_file = os.path.join(\"settings\",\"json_files\", \"sensor_network\",  \"ICF-sensor-network.json\")\n",
    "\n",
    "# Read input files\n",
    "raw_data = settings.input.read_configs([simulation_file, sensor_network_file])\n",
    "input_data  = settings.initialize.do_everything(raw_data)"
   ]
  },
  {
   "cell_type": "code",
   "execution_count": 6,
   "metadata": {},
   "outputs": [
    {
     "data": {
      "text/plain": [
       "<module 'sim.history' from '/Users/shiraz/repos/sensor-network-sim/sim/history.py'>"
      ]
     },
     "execution_count": 6,
     "metadata": {},
     "output_type": "execute_result"
    }
   ],
   "source": [
    "import sim.target\n",
    "import sim.network\n",
    "import sim.history\n",
    "\n",
    "# Reload local modules (for testing)\n",
    "import imp\n",
    "imp.reload(sim.target)\n",
    "imp.reload(sim.network)\n",
    "imp.reload(sim.history)"
   ]
  },
  {
   "cell_type": "code",
   "execution_count": 8,
   "metadata": {},
   "outputs": [],
   "source": [
    "target = sim.target.create(input_data)\n",
    "network = sim.network.create(input_data)\n",
    "\n",
    "sim_history = sim.history.create(network)"
   ]
  },
  {
   "cell_type": "code",
   "execution_count": 9,
   "metadata": {},
   "outputs": [],
   "source": [
    "# Need to make a class history\n",
    "\n",
    "for t in range(500):\n",
    "    sim_history.add(target_x=target.x)\n",
    "    network.make_measurement(target.x)\n",
    "    \n",
    "    # Do estimation\n",
    "    \n",
    "    target.update()\n",
    "\n",
    "sim_history.plot_xy()"
   ]
  },
  {
   "cell_type": "code",
   "execution_count": null,
   "metadata": {},
   "outputs": [],
   "source": []
  },
  {
   "cell_type": "code",
   "execution_count": null,
   "metadata": {},
   "outputs": [],
   "source": []
  },
  {
   "cell_type": "code",
   "execution_count": null,
   "metadata": {},
   "outputs": [],
   "source": []
  }
 ],
 "metadata": {
  "kernelspec": {
   "display_name": "Python 3",
   "language": "python",
   "name": "python3"
  },
  "language_info": {
   "codemirror_mode": {
    "name": "ipython",
    "version": 3
   },
   "file_extension": ".py",
   "mimetype": "text/x-python",
   "name": "python",
   "nbconvert_exporter": "python",
   "pygments_lexer": "ipython3",
   "version": "3.7.3"
  }
 },
 "nbformat": 4,
 "nbformat_minor": 2
}
