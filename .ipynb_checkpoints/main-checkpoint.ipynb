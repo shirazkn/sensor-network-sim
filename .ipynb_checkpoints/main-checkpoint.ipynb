{
 "cells": [
  {
   "cell_type": "code",
   "execution_count": 1,
   "metadata": {},
   "outputs": [],
   "source": [
    "# Import modules\n",
    "import os\n",
    "import input.input_output\n",
    "import input.initialize\n",
    "\n",
    "# Reload local modules (for testing)\n",
    "import imp\n",
    "imp.reload(input.input_output)\n",
    "imp.reload(input.initialize)\n",
    "\n",
    "# Start logging\n",
    "import logging\n",
    "# logging.basicConfig(level=logging.DEBUG)"
   ]
  },
  {
   "cell_type": "code",
   "execution_count": 2,
   "metadata": {},
   "outputs": [],
   "source": [
    "# Get input files\n",
    "simulation_file = os.path.join(\"input\",\"json_files\", \"simulation\",  \"ICF-sim.json\")\n",
    "sensor_network_file = os.path.join(\"input\",\"json_files\", \"sensor_network\",  \"ICF-sensor-network.json\")\n",
    "\n",
    "# Read input files\n",
    "raw_data = input.input_output.read_configs([simulation_file, sensor_network_file])\n",
    "input_data  = input.initialize.do_everything(raw_data)"
   ]
  },
  {
   "cell_type": "code",
   "execution_count": 3,
   "metadata": {},
   "outputs": [
    {
     "data": {
      "text/plain": [
       "{'scheme': 'KCF-BWG',\n",
       " 'network': {'adjacency': [[1, 0, 1, 1, 0],\n",
       "   [0, 1, 1, 0, 1],\n",
       "   [1, 1, 1, 1, 1],\n",
       "   [1, 0, 1, 1, 0],\n",
       "   [0, 1, 1, 0, 1]],\n",
       "  'n_sensors': 5,\n",
       "  'observability': [[[1, 0], [0, 1]],\n",
       "   [[1, 0], [0, 1]],\n",
       "   [[1, 0], [0, 1]],\n",
       "   [[0.5, 0], [0, 1.1]],\n",
       "   [[1, 0], [0, 1]]],\n",
       "  'noise': [[[1, 0], [0, 1]],\n",
       "   [[1, 0], [0, 1]],\n",
       "   [[1, 0], [0, 1]],\n",
       "   [[4, 0], [0, 4]],\n",
       "   [[1, 0], [0, 1]]]},\n",
       " 'simulation': {'total_steps': 1000},\n",
       " 'target': {'constraints': {'x_initial': [20, 0]},\n",
       "  'state': {'ss_A': array([[ 0.99987663, -0.01570732],\n",
       "          [ 0.01570732,  0.99987663]]), 'ss_B': array([[1, 0],\n",
       "          [0, 1]]), 'dimension': 2},\n",
       "  'noise': [[1, 0], [0, 1]]}}"
      ]
     },
     "execution_count": 3,
     "metadata": {},
     "output_type": "execute_result"
    }
   ],
   "source": [
    "# DEBUG\n",
    "input_data"
   ]
  },
  {
   "cell_type": "code",
   "execution_count": 7,
   "metadata": {},
   "outputs": [
    {
     "ename": "SyntaxError",
     "evalue": "invalid syntax (sensor.py, line 8)",
     "output_type": "error",
     "traceback": [
      "Traceback \u001b[0;36m(most recent call last)\u001b[0m:\n",
      "  File \u001b[1;32m\"/usr/local/lib/python3.7/site-packages/IPython/core/interactiveshell.py\"\u001b[0m, line \u001b[1;32m3325\u001b[0m, in \u001b[1;35mrun_code\u001b[0m\n    exec(code_obj, self.user_global_ns, self.user_ns)\n",
      "\u001b[0;36m  File \u001b[0;32m\"<ipython-input-7-fb97aedf9b1a>\"\u001b[0;36m, line \u001b[0;32m4\u001b[0;36m, in \u001b[0;35m<module>\u001b[0;36m\u001b[0m\n\u001b[0;31m    import classes.sensor\u001b[0m\n",
      "\u001b[0;36m  File \u001b[0;32m\"/Users/shiraz/repos/sensor-network-sim/classes/sensor.py\"\u001b[0;36m, line \u001b[0;32m8\u001b[0m\n\u001b[0;31m    self.\u001b[0m\n\u001b[0m         ^\u001b[0m\n\u001b[0;31mSyntaxError\u001b[0m\u001b[0;31m:\u001b[0m invalid syntax\n"
     ]
    }
   ],
   "source": [
    "import numpy as np\n",
    "import classes.noise\n",
    "import classes.target\n",
    "import classes.sensor\n",
    "\n",
    "import sim.target\n",
    "import sim.sensor\n",
    "\n",
    "from sim.helpers import column\n",
    "\n",
    "# Reload local modules (for testing)\n",
    "import imp\n",
    "imp.reload(classes.noise)\n",
    "imp.reload(classes.target)\n",
    "imp.reload(classes.sensor)\n",
    "imp.reload(sim.target)\n",
    "imp.reload(sim.sensor)\n",
    "\n",
    "\n"
   ]
  },
  {
   "cell_type": "code",
   "execution_count": null,
   "metadata": {},
   "outputs": [],
   "source": [
    "target = sim.target.create(input_data[\"target\"])\n",
    "sensors = sim.sensor.create_all(input_data[\"network\"])"
   ]
  },
  {
   "cell_type": "code",
   "execution_count": null,
   "metadata": {},
   "outputs": [],
   "source": [
    "import matplotlib.pyplot as plt\n",
    "xhis = [[],[]]\n",
    "\n",
    "for t in range(500):\n",
    "    xhis[0].append(target.x[0])\n",
    "    xhis[1].append(target.x[1])\n",
    "    \n",
    "    \n",
    "    \n",
    "    \n",
    "    \n",
    "    target.update()\n",
    "plt.plot(xhis[0],xhis[1])"
   ]
  },
  {
   "cell_type": "code",
   "execution_count": null,
   "metadata": {},
   "outputs": [],
   "source": [
    "test_noise = Noise([[100,0],[0,100]])\n",
    "test_noise()"
   ]
  },
  {
   "cell_type": "code",
   "execution_count": 9,
   "metadata": {},
   "outputs": [],
   "source": [
    "class test_class:\n",
    "    def __init__(self):\n",
    "        self.first = 3\n",
    "    def create(self, _second):\n",
    "        self.second = _second"
   ]
  },
  {
   "cell_type": "code",
   "execution_count": 12,
   "metadata": {},
   "outputs": [],
   "source": [
    "obs = test_class()\n",
    "obs.create(5)"
   ]
  },
  {
   "cell_type": "code",
   "execution_count": null,
   "metadata": {
    "collapsed": true
   },
   "outputs": [],
   "source": []
  },
  {
   "cell_type": "code",
   "execution_count": null,
   "metadata": {},
   "outputs": [],
   "source": []
  }
 ],
 "metadata": {
  "kernelspec": {
   "display_name": "Python 3",
   "language": "python",
   "name": "python3"
  },
  "language_info": {
   "codemirror_mode": {
    "name": "ipython",
    "version": 3
   },
   "file_extension": ".py",
   "mimetype": "text/x-python",
   "name": "python",
   "nbconvert_exporter": "python",
   "pygments_lexer": "ipython3",
   "version": "3.7.3"
  }
 },
 "nbformat": 4,
 "nbformat_minor": 2
}
